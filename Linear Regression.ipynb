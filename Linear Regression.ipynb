{
 "cells": [
  {
   "cell_type": "markdown",
   "metadata": {},
   "source": [
    "# Implementation of ML Algorithms in Python 3.6.5"
   ]
  },
  {
   "cell_type": "markdown",
   "metadata": {},
   "source": [
    "## 1. Linear Regression"
   ]
  },
  {
   "cell_type": "code",
   "execution_count": 62,
   "metadata": {},
   "outputs": [],
   "source": [
    "# Importing the required packages\n",
    "import numpy as np\n",
    "import pandas as pd\n",
    "from sklearn.metrics import confusion_matrix\n",
    "from sklearn.cross_validation import train_test_split\n",
    "from sklearn.linear_model import LinearRegression\n",
    "from sklearn.metrics import explained_variance_score"
   ]
  },
  {
   "cell_type": "code",
   "execution_count": 131,
   "metadata": {},
   "outputs": [],
   "source": [
    "# Function importing Dataset\n",
    "def importdata():\n",
    "    balance_data = pd.read_csv(\n",
    "'http://archive.ics.uci.edu/ml/machine-learning-databases/wine-quality/winequality-red.csv',\n",
    "    sep= ';', header = 0)\n",
    "     \n",
    "    balance_data=balance_data.apply(pd.to_numeric,errors=\"ignore\")    \n",
    "    # Printing the dataswet shape\n",
    "    print (\"Dataset Length: \\n\", len(balance_data))\n",
    "    print (\"Dataset Shape: \", balance_data.shape)\n",
    "     \n",
    "    # Printing the dataset obseravtions\n",
    "    print (\"Dataset: \\n\",balance_data.head())\n",
    "    \n",
    "    return balance_data"
   ]
  },
  {
   "cell_type": "code",
   "execution_count": 133,
   "metadata": {},
   "outputs": [
    {
     "name": "stdout",
     "output_type": "stream",
     "text": [
      "Dataset Length: \n",
      " 1599\n",
      "Dataset Shape:  (1599, 12)\n",
      "Dataset: \n",
      "    fixed acidity  volatile acidity  citric acid  residual sugar  chlorides  \\\n",
      "0            7.4              0.70         0.00             1.9      0.076   \n",
      "1            7.8              0.88         0.00             2.6      0.098   \n",
      "2            7.8              0.76         0.04             2.3      0.092   \n",
      "3           11.2              0.28         0.56             1.9      0.075   \n",
      "4            7.4              0.70         0.00             1.9      0.076   \n",
      "\n",
      "   free sulfur dioxide  total sulfur dioxide  density    pH  sulphates  \\\n",
      "0                 11.0                  34.0   0.9978  3.51       0.56   \n",
      "1                 25.0                  67.0   0.9968  3.20       0.68   \n",
      "2                 15.0                  54.0   0.9970  3.26       0.65   \n",
      "3                 17.0                  60.0   0.9980  3.16       0.58   \n",
      "4                 11.0                  34.0   0.9978  3.51       0.56   \n",
      "\n",
      "   alcohol  quality  \n",
      "0      9.4        5  \n",
      "1      9.8        5  \n",
      "2      9.8        5  \n",
      "3      9.8        6  \n",
      "4      9.4        5  \n"
     ]
    }
   ],
   "source": [
    "raw_data=importdata()\n",
    "data=raw_data.apply(pd.to_numeric)"
   ]
  },
  {
   "cell_type": "code",
   "execution_count": 257,
   "metadata": {},
   "outputs": [],
   "source": [
    "# Function to split the dataset\n",
    "def splitdataset(balance_data):\n",
    " \n",
    "    # Seperating the target variable\n",
    "    X = balance_data.values[1:, 0:12]\n",
    "    Y = balance_data.values[1:, 11]\n",
    "    \n",
    "    \n",
    "    \n",
    "    # Spliting the dataset into train and test\n",
    "    X_train, X_test, y_train, y_test = train_test_split( \n",
    "    X, Y, test_size = 0.3, random_state = 100)\n",
    "    \n",
    "     \n",
    "    return X, Y, X_train, X_test, y_train, y_test"
   ]
  },
  {
   "cell_type": "code",
   "execution_count": 258,
   "metadata": {},
   "outputs": [
    {
     "name": "stdout",
     "output_type": "stream",
     "text": [
      "1118\n"
     ]
    }
   ],
   "source": [
    "X, Y, X_train, X_test, y_train, y_test = splitdataset(data)\n",
    "\n",
    "print(len(X_train))"
   ]
  },
  {
   "cell_type": "code",
   "execution_count": 259,
   "metadata": {},
   "outputs": [],
   "source": [
    "def train_with_LinearRegression(X_train, X_test, y_train):\n",
    "    LR=LinearRegression()\n",
    "    LR.fit(X_train,y_train)\n",
    "    return LR"
   ]
  },
  {
   "cell_type": "code",
   "execution_count": 260,
   "metadata": {},
   "outputs": [],
   "source": [
    "LR=train_with_LinearRegression(X_train, X_test, y_train)"
   ]
  },
  {
   "cell_type": "code",
   "execution_count": 288,
   "metadata": {},
   "outputs": [],
   "source": [
    "# Function to make predictions\n",
    "def prediction(X_test, clf_object):\n",
    " \n",
    "    # Predicton on test with giniIndex\n",
    "    y_pred = clf_object.predict(X_test)\n",
    "    print(\"Predicted values:\")\n",
    "    y_pred=y_pred.astype(np.int64)    \n",
    "    print(y_pred)\n",
    "    return y_pred"
   ]
  },
  {
   "cell_type": "code",
   "execution_count": 289,
   "metadata": {},
   "outputs": [],
   "source": [
    "# Function to calculate Explained Variance Score \n",
    "def cal_accuracy(y_test, y_pred):\n",
    "     \n",
    "    print(\"Variance Score: \",\n",
    "        explained_variance_score(y_test, y_pred, multioutput='raw_values'))\n",
    "     \n",
    "    print (\"Accuracy : \",\n",
    "    explained_variance_score(y_test,y_pred)*100)"
   ]
  },
  {
   "cell_type": "code",
   "execution_count": 290,
   "metadata": {},
   "outputs": [
    {
     "name": "stdout",
     "output_type": "stream",
     "text": [
      "Predicted values:\n",
      "[5 7 5 5 7 5 5 6 6 7 4 6 5 5 6 4 6 5 5 4 6 5 6 6 6 4 4 5 7 5 4 6 7 5 5 6 6\n",
      " 5 5 4 5 6 6 6 6 5 6 7 6 6 6 5 5 4 5 6 7 5 4 4 5 5 5 7 6 5 5 4 7 6 7 7 6 7\n",
      " 6 4 5 4 5 6 3 5 5 6 5 5 3 6 3 6 3 5 5 5 5 7 5 6 5 6 8 6 5 5 6 6 4 6 4 6 6\n",
      " 7 7 5 5 6 7 6 4 4 5 7 7 2 3 4 8 6 5 5 6 4 6 7 5 6 5 5 6 7 6 5 6 5 7 6 6 6\n",
      " 2 5 7 5 6 6 6 6 3 2 6 7 5 6 6 6 6 6 5 5 6 7 5 5 7 6 6 7 6 6 6 6 4 5 4 5 5\n",
      " 5 6 5 7 4 4 4 4 4 7 6 4 5 6 5 6 4 5 4 5 5 6 5 7 5 4 6 6 6 5 4 6 7 4 5 4 4\n",
      " 6 7 6 4 5 7 5 4 5 6 6 6 6 4 6 5 5 6 6 4 6 6 6 4 5 4 4 7 6 4 4 6 5 6 5 5 6\n",
      " 5 7 4 5 4 4 5 7 4 6 6 6 5 5 5 4 6 5 6 4 6 6 5 6 5 2 4 4 5 5 5 6 5 6 4 6 6\n",
      " 7 5 5 5 4 7 4 6 4 5 4 6 5 6 6 5 4 4 7 7 6 7 5 4 6 7 4 6 5 8 5 4 7 5 7 5 7\n",
      " 7 6 6 6 7 6 6 4 6 4 4 4 4 6 6 3 6 5 5 6 4 5 5 4 4 3 5 5 5 6 4 6 3 6 4 6 5\n",
      " 5 6 8 6 5 4 4 5 5 6 6 5 4 5 4 6 5 6 6 5 7 6 4 5 4 5 4 5 5 7 6 6 4 3 6 6 6\n",
      " 6 4 4 3 5 4 4 6 4 7 5 5 6 4 6 6 5 5 5 6 4 6 5 5 5 5 6 5 5 6 3 5 6 6 6 6 7\n",
      " 5 3 5 7 7 6 4 5 5 4 5 5 6 5 6 4 6 4 7 5 4 4 6 6 6 5 5 5 5 4 6 5 6 6 6 5]\n",
      "\n",
      " \n",
      " Test values: \n",
      " [5 7 5 6 7 6 6 6 6 7 5 6 5 5 6 5 7 5 6 5 6 5 6 6 6 5 5 5 7 5 5 6 7 5 6 6 6\n",
      " 5 5 5 5 6 6 6 6 5 6 7 6 6 7 5 5 5 5 6 7 5 5 5 6 5 6 7 6 5 5 5 7 6 7 7 6 7\n",
      " 7 5 5 5 6 6 4 6 5 6 5 5 4 6 4 6 4 5 5 6 5 7 5 6 5 6 8 6 5 5 6 6 5 6 5 6 6\n",
      " 7 7 5 6 6 7 6 5 5 5 7 7 3 4 5 8 6 5 5 6 4 6 7 5 6 6 5 6 7 6 5 6 6 7 6 6 6\n",
      " 3 5 7 6 6 6 6 6 4 3 6 7 5 6 6 6 6 6 6 6 6 7 6 5 7 6 6 7 6 6 6 6 4 6 5 6 5\n",
      " 5 6 5 7 5 4 5 5 5 7 6 4 6 6 5 6 5 5 5 5 5 6 5 7 5 5 6 6 6 6 5 6 7 5 5 5 5\n",
      " 6 7 7 5 5 7 5 5 5 6 6 6 6 5 6 5 5 6 6 5 6 6 6 5 5 5 5 7 6 5 5 6 5 6 5 5 6\n",
      " 5 7 5 5 5 5 5 7 5 6 6 6 5 6 5 5 6 5 6 5 6 6 5 6 5 3 5 5 5 5 5 6 5 6 5 6 6\n",
      " 7 5 5 5 5 7 5 6 5 6 5 6 5 6 6 5 5 5 7 7 6 7 5 5 6 7 5 6 5 8 6 5 7 5 7 5 7\n",
      " 7 6 6 6 7 6 6 5 6 5 5 5 5 6 6 4 6 6 6 6 5 6 5 5 5 4 5 6 5 6 5 6 4 6 5 6 5\n",
      " 5 6 8 6 6 5 5 5 5 6 6 5 5 6 5 6 5 6 6 5 7 6 5 5 5 5 5 5 5 7 6 6 5 4 6 6 6\n",
      " 6 5 5 4 5 5 5 6 5 7 5 5 6 5 6 6 6 5 5 6 4 6 5 5 6 6 6 5 6 6 4 5 6 6 6 6 7\n",
      " 6 4 5 7 7 6 5 5 5 5 5 5 6 5 6 5 6 5 7 5 5 5 6 6 6 6 6 5 6 5 6 5 6 6 6 5]\n"
     ]
    }
   ],
   "source": [
    "y_pred = prediction(X_test, LR)\n",
    "\n",
    "y_test=y_test.astype(np.int64)\n",
    "print(\"\\n \\n Test values: \\n\", y_test)\n",
    "#data.dtypes"
   ]
  },
  {
   "cell_type": "code",
   "execution_count": 291,
   "metadata": {
    "scrolled": true
   },
   "outputs": [
    {
     "name": "stdout",
     "output_type": "stream",
     "text": [
      "Variance Score:  [0.67282024]\n",
      "Accuracy :  67.28202386124387\n"
     ]
    }
   ],
   "source": [
    "cal_accuracy(y_test, y_pred)"
   ]
  },
  {
   "cell_type": "code",
   "execution_count": null,
   "metadata": {},
   "outputs": [],
   "source": []
  },
  {
   "cell_type": "code",
   "execution_count": null,
   "metadata": {},
   "outputs": [],
   "source": [
    "\n"
   ]
  },
  {
   "cell_type": "code",
   "execution_count": null,
   "metadata": {},
   "outputs": [],
   "source": []
  }
 ],
 "metadata": {
  "kernelspec": {
   "display_name": "Python 3",
   "language": "python",
   "name": "python3"
  },
  "language_info": {
   "codemirror_mode": {
    "name": "ipython",
    "version": 3
   },
   "file_extension": ".py",
   "mimetype": "text/x-python",
   "name": "python",
   "nbconvert_exporter": "python",
   "pygments_lexer": "ipython3",
   "version": "3.6.5"
  }
 },
 "nbformat": 4,
 "nbformat_minor": 2
}
